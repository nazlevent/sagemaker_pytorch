{
 "cells": [
  {
   "cell_type": "code",
   "execution_count": 27,
   "metadata": {},
   "outputs": [],
   "source": [
    "import time\n",
    "script_start = time.time()"
   ]
  },
  {
   "cell_type": "code",
   "execution_count": 6,
   "metadata": {
    "collapsed": true,
    "jupyter": {
     "outputs_hidden": true
    }
   },
   "outputs": [
    {
     "name": "stdout",
     "output_type": "stream",
     "text": [
      "Collecting git+https://github.com/huggingface/transformers.git\n",
      "  Cloning https://github.com/huggingface/transformers.git to /tmp/pip-req-build-3mfo7kga\n",
      "Requirement already satisfied: numpy in /usr/lib64/python3.6/dist-packages (from transformers==2.2.0) (1.17.3)\n",
      "Requirement already satisfied: boto3 in /usr/lib/python3.6/dist-packages (from transformers==2.2.0) (1.9.72)\n",
      "Requirement already satisfied: requests in /usr/lib/python3.6/dist-packages (from transformers==2.2.0) (2.20.0)\n",
      "Collecting tqdm (from transformers==2.2.0)\n",
      "  Using cached https://files.pythonhosted.org/packages/bb/62/6f823501b3bf2bac242bd3c320b592ad1516b3081d82c77c1d813f076856/tqdm-4.39.0-py2.py3-none-any.whl\n",
      "Collecting regex (from transformers==2.2.0)\n",
      "  Using cached https://files.pythonhosted.org/packages/e3/8e/cbf2295643d7265e7883326fb4654e643bfc93b3a8a8274d8010a39d8804/regex-2019.11.1-cp36-cp36m-manylinux1_x86_64.whl\n",
      "Collecting sentencepiece (from transformers==2.2.0)\n",
      "  Using cached https://files.pythonhosted.org/packages/14/3d/efb655a670b98f62ec32d66954e1109f403db4d937c50d779a75b9763a29/sentencepiece-0.1.83-cp36-cp36m-manylinux1_x86_64.whl\n",
      "Collecting sacremoses (from transformers==2.2.0)\n",
      "Requirement already satisfied: s3transfer<0.2.0,>=0.1.10 in /usr/lib/python3.6/dist-packages (from boto3->transformers==2.2.0) (0.1.13)\n",
      "Collecting botocore<1.13.0,>=1.12.72 (from boto3->transformers==2.2.0)\n",
      "  Using cached https://files.pythonhosted.org/packages/8e/7b/88f10115b4748f86be6b7b1d8761ba5023fccf6e6cbe762e368f63eddcf9/botocore-1.12.253-py2.py3-none-any.whl\n",
      "Requirement already satisfied: jmespath<1.0.0,>=0.7.1 in /usr/lib/python3.6/dist-packages (from boto3->transformers==2.2.0) (0.9.4)\n",
      "Requirement already satisfied: certifi>=2017.4.17 in /usr/lib/python3.6/dist-packages (from requests->transformers==2.2.0) (2019.9.11)\n",
      "Requirement already satisfied: idna<2.8,>=2.5 in /usr/lib/python3.6/dist-packages (from requests->transformers==2.2.0) (2.7)\n",
      "Requirement already satisfied: chardet<3.1.0,>=3.0.2 in /usr/lib/python3.6/dist-packages (from requests->transformers==2.2.0) (3.0.4)\n",
      "Requirement already satisfied: urllib3<1.25,>=1.21.1 in /usr/lib/python3.6/dist-packages (from requests->transformers==2.2.0) (1.24.3)\n",
      "Requirement already satisfied: six in /usr/lib/python3.6/dist-packages (from sacremoses->transformers==2.2.0) (1.12.0)\n",
      "Collecting click (from sacremoses->transformers==2.2.0)\n",
      "  Using cached https://files.pythonhosted.org/packages/fa/37/45185cb5abbc30d7257104c434fe0b07e5a195a6847506c074527aa599ec/Click-7.0-py2.py3-none-any.whl\n",
      "Collecting joblib (from sacremoses->transformers==2.2.0)\n",
      "  Using cached https://files.pythonhosted.org/packages/8f/42/155696f85f344c066e17af287359c9786b436b1bf86029bb3411283274f3/joblib-0.14.0-py2.py3-none-any.whl\n",
      "Requirement already satisfied: docutils<0.16,>=0.10 in /usr/lib/python3.6/dist-packages (from botocore<1.13.0,>=1.12.72->boto3->transformers==2.2.0) (0.15.2)\n",
      "Requirement already satisfied: python-dateutil<3.0.0,>=2.1; python_version >= \"2.7\" in /usr/lib/python3.6/dist-packages (from botocore<1.13.0,>=1.12.72->boto3->transformers==2.2.0) (2.8.0)\n",
      "Building wheels for collected packages: transformers\n",
      "  Building wheel for transformers (setup.py) ... \u001b[?25ldone\n",
      "\u001b[?25h  Stored in directory: /tmp/pip-ephem-wheel-cache-4ifw769e/wheels/33/eb/3b/4bf5dd835e865e472d4fc0754f35ac0edb08fe852e8f21655f\n",
      "Successfully built transformers\n",
      "\u001b[31mawscli 1.16.76 has requirement botocore==1.12.66, but you'll have botocore 1.12.253 which is incompatible.\u001b[0m\n",
      "Installing collected packages: tqdm, regex, sentencepiece, click, joblib, sacremoses, transformers, botocore\n",
      "\u001b[33m  The script tqdm is installed in '/home/ec2-user/.local/bin' which is not on PATH.\n",
      "  Consider adding this directory to PATH or, if you prefer to suppress this warning, use --no-warn-script-location.\u001b[0m\n",
      "\u001b[33m  The script sacremoses is installed in '/home/ec2-user/.local/bin' which is not on PATH.\n",
      "  Consider adding this directory to PATH or, if you prefer to suppress this warning, use --no-warn-script-location.\u001b[0m\n",
      "\u001b[33m  The script transformers is installed in '/home/ec2-user/.local/bin' which is not on PATH.\n",
      "  Consider adding this directory to PATH or, if you prefer to suppress this warning, use --no-warn-script-location.\u001b[0m\n",
      "Successfully installed botocore-1.12.253 click-7.0 joblib-0.14.0 regex-2019.11.1 sacremoses-0.0.35 sentencepiece-0.1.83 tqdm-4.39.0 transformers-2.2.0\n",
      "\u001b[33mYou are using pip version 19.0.2, however version 19.3.1 is available.\n",
      "You should consider upgrading via the 'pip install --upgrade pip' command.\u001b[0m\n"
     ]
    }
   ],
   "source": [
    "!pip3 install git+https://github.com/huggingface/transformers.git  --user"
   ]
  },
  {
   "cell_type": "code",
   "execution_count": 6,
   "metadata": {
    "collapsed": true,
    "jupyter": {
     "outputs_hidden": true
    }
   },
   "outputs": [
    {
     "name": "stdout",
     "output_type": "stream",
     "text": [
      "Collecting git+https://github.com/huggingface/transformers.git\n",
      "  Cloning https://github.com/huggingface/transformers.git to /tmp/pip-req-build-ugtcb17v\n",
      "Requirement already satisfied (use --upgrade to upgrade): transformers==2.1.1 from git+https://github.com/huggingface/transformers.git in /home/ec2-user/.local/lib/python3.6/site-packages\n",
      "Requirement already satisfied: numpy in /usr/lib64/python3.6/dist-packages (from transformers==2.1.1) (1.17.3)\n",
      "Requirement already satisfied: boto3 in /usr/lib/python3.6/dist-packages (from transformers==2.1.1) (1.9.72)\n",
      "Requirement already satisfied: requests in /usr/lib/python3.6/dist-packages (from transformers==2.1.1) (2.20.0)\n",
      "Requirement already satisfied: tqdm in /home/ec2-user/.local/lib/python3.6/site-packages (from transformers==2.1.1) (4.39.0)\n",
      "Requirement already satisfied: regex in /home/ec2-user/.local/lib/python3.6/site-packages (from transformers==2.1.1) (2019.11.1)\n",
      "Requirement already satisfied: sentencepiece in /home/ec2-user/.local/lib/python3.6/site-packages (from transformers==2.1.1) (0.1.83)\n",
      "Requirement already satisfied: sacremoses in /home/ec2-user/.local/lib/python3.6/site-packages (from transformers==2.1.1) (0.0.35)\n",
      "Requirement already satisfied: jmespath<1.0.0,>=0.7.1 in /usr/lib/python3.6/dist-packages (from boto3->transformers==2.1.1) (0.9.4)\n",
      "Requirement already satisfied: s3transfer<0.2.0,>=0.1.10 in /usr/lib/python3.6/dist-packages (from boto3->transformers==2.1.1) (0.1.13)\n",
      "Collecting botocore<1.13.0,>=1.12.72 (from boto3->transformers==2.1.1)\n",
      "  Using cached https://files.pythonhosted.org/packages/8e/7b/88f10115b4748f86be6b7b1d8761ba5023fccf6e6cbe762e368f63eddcf9/botocore-1.12.253-py2.py3-none-any.whl\n",
      "Requirement already satisfied: urllib3<1.25,>=1.21.1 in /usr/lib/python3.6/dist-packages (from requests->transformers==2.1.1) (1.24.3)\n",
      "Requirement already satisfied: chardet<3.1.0,>=3.0.2 in /usr/lib/python3.6/dist-packages (from requests->transformers==2.1.1) (3.0.4)\n",
      "Requirement already satisfied: idna<2.8,>=2.5 in /usr/lib/python3.6/dist-packages (from requests->transformers==2.1.1) (2.7)\n",
      "Requirement already satisfied: certifi>=2017.4.17 in /usr/lib/python3.6/dist-packages (from requests->transformers==2.1.1) (2019.9.11)\n",
      "Requirement already satisfied: click in /home/ec2-user/.local/lib/python3.6/site-packages (from sacremoses->transformers==2.1.1) (7.0)\n",
      "Requirement already satisfied: six in /usr/lib/python3.6/dist-packages (from sacremoses->transformers==2.1.1) (1.12.0)\n",
      "Requirement already satisfied: joblib in /home/ec2-user/.local/lib/python3.6/site-packages (from sacremoses->transformers==2.1.1) (0.14.0)\n",
      "Requirement already satisfied: python-dateutil<3.0.0,>=2.1; python_version >= \"2.7\" in /usr/lib/python3.6/dist-packages (from botocore<1.13.0,>=1.12.72->boto3->transformers==2.1.1) (2.8.0)\n",
      "Requirement already satisfied: docutils<0.16,>=0.10 in /usr/lib/python3.6/dist-packages (from botocore<1.13.0,>=1.12.72->boto3->transformers==2.1.1) (0.15.2)\n",
      "Building wheels for collected packages: transformers\n",
      "  Building wheel for transformers (setup.py) ... \u001b[?25ldone\n",
      "\u001b[?25h  Stored in directory: /tmp/pip-ephem-wheel-cache-nmdbbn5i/wheels/33/eb/3b/4bf5dd835e865e472d4fc0754f35ac0edb08fe852e8f21655f\n",
      "Successfully built transformers\n",
      "\u001b[31mawscli 1.16.76 has requirement botocore==1.12.66, but you'll have botocore 1.12.253 which is incompatible.\u001b[0m\n",
      "Installing collected packages: botocore\n",
      "Successfully installed botocore-1.12.253\n",
      "\u001b[33mYou are using pip version 19.0.2, however version 19.3.1 is available.\n",
      "You should consider upgrading via the 'pip install --upgrade pip' command.\u001b[0m\n",
      "Solving environment: done\n",
      "\n",
      "\n",
      "==> WARNING: A newer version of conda exists. <==\n",
      "  current version: 4.5.12\n",
      "  latest version: 4.7.12\n",
      "\n",
      "Please update conda by running\n",
      "\n",
      "    $ conda update -n base -c defaults conda\n",
      "\n",
      "\n",
      "\n",
      "# All requested packages already installed.\n",
      "\n"
     ]
    }
   ],
   "source": [
    "!pip3 install git+https://github.com/huggingface/transformers.git \n",
    "!conda install -c conda-forge pytorch-pretrained-bert -y"
   ]
  },
  {
   "cell_type": "code",
   "execution_count": 14,
   "metadata": {},
   "outputs": [
    {
     "name": "stdout",
     "output_type": "stream",
     "text": [
      "Collecting pip\n",
      "\u001b[?25l  Downloading https://files.pythonhosted.org/packages/00/b6/9cfa56b4081ad13874b0c6f96af8ce16cfbc1cb06bedf8e9164ce5551ec1/pip-19.3.1-py2.py3-none-any.whl (1.4MB)\n",
      "\u001b[K    100% |████████████████████████████████| 1.4MB 20.9MB/s ta 0:00:01\n",
      "\u001b[31mfastai 1.0.59 requires nvidia-ml-py3, which is not installed.\u001b[0m\n",
      "\u001b[31mawscli 1.16.283 has requirement botocore==1.13.19, but you'll have botocore 1.13.26 which is incompatible.\u001b[0m\n",
      "\u001b[?25hInstalling collected packages: pip\n",
      "  Found existing installation: pip 10.0.1\n",
      "    Uninstalling pip-10.0.1:\n",
      "      Successfully uninstalled pip-10.0.1\n",
      "Successfully installed pip-19.3.1\n"
     ]
    }
   ],
   "source": [
    "!pip install --upgrade pip"
   ]
  },
  {
   "cell_type": "code",
   "execution_count": 15,
   "metadata": {
    "collapsed": true,
    "jupyter": {
     "outputs_hidden": true
    }
   },
   "outputs": [
    {
     "name": "stdout",
     "output_type": "stream",
     "text": [
      "Collecting git+https://github.com/huggingface/transformers.git\n",
      "  Cloning https://github.com/huggingface/transformers.git to /tmp/pip-req-build-yt0jlrwk\n",
      "  Running command git clone -q https://github.com/huggingface/transformers.git /tmp/pip-req-build-yt0jlrwk\n",
      "Requirement already satisfied (use --upgrade to upgrade): transformers==2.1.1 from git+https://github.com/huggingface/transformers.git in /home/ec2-user/.local/lib/python3.6/site-packages\n",
      "Requirement already satisfied: numpy in /home/ec2-user/anaconda3/envs/pytorch_p36/lib/python3.6/site-packages (from transformers==2.1.1) (1.15.4)\n",
      "Requirement already satisfied: boto3 in /home/ec2-user/anaconda3/envs/pytorch_p36/lib/python3.6/site-packages (from transformers==2.1.1) (1.10.19)\n",
      "Requirement already satisfied: requests in /home/ec2-user/anaconda3/envs/pytorch_p36/lib/python3.6/site-packages (from transformers==2.1.1) (2.20.0)\n",
      "Requirement already satisfied: tqdm in /home/ec2-user/.local/lib/python3.6/site-packages (from transformers==2.1.1) (4.39.0)\n",
      "Requirement already satisfied: regex in /home/ec2-user/.local/lib/python3.6/site-packages (from transformers==2.1.1) (2019.11.1)\n",
      "Requirement already satisfied: sentencepiece in /home/ec2-user/.local/lib/python3.6/site-packages (from transformers==2.1.1) (0.1.83)\n",
      "Requirement already satisfied: sacremoses in /home/ec2-user/.local/lib/python3.6/site-packages (from transformers==2.1.1) (0.0.35)\n",
      "Requirement already satisfied: jmespath<1.0.0,>=0.7.1 in /home/ec2-user/anaconda3/envs/pytorch_p36/lib/python3.6/site-packages (from boto3->transformers==2.1.1) (0.9.4)\n",
      "Requirement already satisfied: botocore<1.14.0,>=1.13.19 in /home/ec2-user/anaconda3/envs/pytorch_p36/lib/python3.6/site-packages (from boto3->transformers==2.1.1) (1.13.26)\n",
      "Requirement already satisfied: s3transfer<0.3.0,>=0.2.0 in /home/ec2-user/anaconda3/envs/pytorch_p36/lib/python3.6/site-packages (from boto3->transformers==2.1.1) (0.2.1)\n",
      "Requirement already satisfied: certifi>=2017.4.17 in /home/ec2-user/anaconda3/envs/pytorch_p36/lib/python3.6/site-packages (from requests->transformers==2.1.1) (2019.9.11)\n",
      "Requirement already satisfied: idna<2.8,>=2.5 in /home/ec2-user/anaconda3/envs/pytorch_p36/lib/python3.6/site-packages (from requests->transformers==2.1.1) (2.6)\n",
      "Requirement already satisfied: chardet<3.1.0,>=3.0.2 in /home/ec2-user/anaconda3/envs/pytorch_p36/lib/python3.6/site-packages (from requests->transformers==2.1.1) (3.0.4)\n",
      "Requirement already satisfied: urllib3<1.25,>=1.21.1 in /home/ec2-user/anaconda3/envs/pytorch_p36/lib/python3.6/site-packages (from requests->transformers==2.1.1) (1.23)\n",
      "Requirement already satisfied: click in /home/ec2-user/.local/lib/python3.6/site-packages (from sacremoses->transformers==2.1.1) (7.0)\n",
      "Requirement already satisfied: joblib in /home/ec2-user/.local/lib/python3.6/site-packages (from sacremoses->transformers==2.1.1) (0.14.0)\n",
      "Requirement already satisfied: six in /home/ec2-user/anaconda3/envs/pytorch_p36/lib/python3.6/site-packages (from sacremoses->transformers==2.1.1) (1.11.0)\n",
      "Requirement already satisfied: python-dateutil<2.8.1,>=2.1; python_version >= \"2.7\" in /home/ec2-user/anaconda3/envs/pytorch_p36/lib/python3.6/site-packages (from botocore<1.14.0,>=1.13.19->boto3->transformers==2.1.1) (2.7.3)\n",
      "Requirement already satisfied: docutils<0.16,>=0.10 in /home/ec2-user/anaconda3/envs/pytorch_p36/lib/python3.6/site-packages (from botocore<1.14.0,>=1.13.19->boto3->transformers==2.1.1) (0.14)\n",
      "Building wheels for collected packages: transformers\n",
      "  Building wheel for transformers (setup.py) ... \u001b[?25ldone\n",
      "\u001b[?25h  Created wheel for transformers: filename=transformers-2.1.1-cp36-none-any.whl size=331477 sha256=0e28e12632cb1c6ca9122032c007ba0cc3b89091738126fad2cb44dbf87719ce\n",
      "  Stored in directory: /tmp/pip-ephem-wheel-cache-cshzygch/wheels/33/eb/3b/4bf5dd835e865e472d4fc0754f35ac0edb08fe852e8f21655f\n",
      "Successfully built transformers\n"
     ]
    }
   ],
   "source": [
    "!pip3 install git+https://github.com/huggingface/transformers.git "
   ]
  },
  {
   "cell_type": "code",
   "execution_count": 18,
   "metadata": {},
   "outputs": [
    {
     "name": "stdout",
     "output_type": "stream",
     "text": [
      "Archive:  cola_public_1.1.zip\n"
     ]
    },
    {
     "name": "stderr",
     "output_type": "stream",
     "text": [
      "bash: line 2: https://nyu-mll.github.io/CoLA/: No such file or directory\n",
      "--2019-11-25 12:03:05--  https://nyu-mll.github.io/CoLA/cola_public_1.1.zip\n",
      "Resolving nyu-mll.github.io (nyu-mll.github.io)... 185.199.109.153, 185.199.108.153, 185.199.110.153, ...\n",
      "Connecting to nyu-mll.github.io (nyu-mll.github.io)|185.199.109.153|:443... connected.\n",
      "HTTP request sent, awaiting response... 200 OK\n",
      "Length: 255330 (249K) [application/zip]\n",
      "Saving to: ‘cola_public_1.1.zip.1’\n",
      "\n",
      "     0K .......... .......... .......... .......... .......... 20% 2.57M 0s\n",
      "    50K .......... .......... .......... .......... .......... 40% 5.21M 0s\n",
      "   100K .......... .......... .......... .......... .......... 60% 5.17M 0s\n",
      "   150K .......... .......... .......... .......... .......... 80%  119M 0s\n",
      "   200K .......... .......... .......... .......... ......... 100%  238M=0.04s\n",
      "\n",
      "2019-11-25 12:03:06 (6.34 MB/s) - ‘cola_public_1.1.zip.1’ saved [255330/255330]\n",
      "\n",
      "replace cola_public/README? [y]es, [n]o, [A]ll, [N]one, [r]ename:  NULL\n",
      "(EOF or read error, treating as \"[N]one\" ...)\n"
     ]
    }
   ],
   "source": [
    "%%bash\n",
    "\n",
    "https://nyu-mll.github.io/CoLA/\n",
    "wget https://nyu-mll.github.io/CoLA/cola_public_1.1.zip\n",
    "unzip cola_public_1.1.zip"
   ]
  },
  {
   "cell_type": "code",
   "execution_count": 26,
   "metadata": {},
   "outputs": [],
   "source": [
    "#import transformers\n",
    "#dir(transformers)"
   ]
  },
  {
   "cell_type": "code",
   "execution_count": 9,
   "metadata": {},
   "outputs": [],
   "source": [
    "import torch\n",
    "from transformers import (BertConfig, \n",
    "                                  BertForSequenceClassification, \n",
    "                                  BertTokenizer)\n",
    "\n",
    "\n",
    "from transformers import get_linear_schedule_with_warmup as WarmupLinearSchedule\n",
    "from transformers import AdamW\n",
    "from torch.utils.data import (TensorDataset, \n",
    "                              DataLoader, \n",
    "                              RandomSampler, \n",
    "                              SequentialSampler)\n",
    "\n",
    "from tqdm import tqdm, trange, tqdm_notebook\n",
    "from sklearn.metrics import matthews_corrcoef\n",
    "import matplotlib.pyplot as plt\n",
    "import pandas as pd\n",
    "import numpy as np\n",
    "import io\n",
    "\n",
    "%matplotlib inline\n",
    "pd.set_option('max_colwidth', 300)"
   ]
  },
  {
   "cell_type": "markdown",
   "metadata": {},
   "source": [
    "## Data Exploration"
   ]
  },
  {
   "cell_type": "code",
   "execution_count": 2,
   "metadata": {},
   "outputs": [
    {
     "name": "stdout",
     "output_type": "stream",
     "text": [
      "ls: cannot access /home/ubuntu/project/cola_public/raw/: No such file or directory\n"
     ]
    }
   ],
   "source": [
    "!ls -l /home/ubuntu/project/cola_public/raw/"
   ]
  },
  {
   "cell_type": "code",
   "execution_count": 3,
   "metadata": {
    "scrolled": true
   },
   "outputs": [
    {
     "data": {
      "text/html": [
       "<div>\n",
       "<style scoped>\n",
       "    .dataframe tbody tr th:only-of-type {\n",
       "        vertical-align: middle;\n",
       "    }\n",
       "\n",
       "    .dataframe tbody tr th {\n",
       "        vertical-align: top;\n",
       "    }\n",
       "\n",
       "    .dataframe thead th {\n",
       "        text-align: right;\n",
       "    }\n",
       "</style>\n",
       "<table border=\"1\" class=\"dataframe\">\n",
       "  <thead>\n",
       "    <tr style=\"text-align: right;\">\n",
       "      <th></th>\n",
       "      <th>sentence_source</th>\n",
       "      <th>label</th>\n",
       "      <th>notes</th>\n",
       "      <th>sentence</th>\n",
       "    </tr>\n",
       "  </thead>\n",
       "  <tbody>\n",
       "    <tr>\n",
       "      <th>6115</th>\n",
       "      <td>c_13</td>\n",
       "      <td>1</td>\n",
       "      <td>NaN</td>\n",
       "      <td>It is likely that Patrick left.</td>\n",
       "    </tr>\n",
       "    <tr>\n",
       "      <th>1150</th>\n",
       "      <td>r-67</td>\n",
       "      <td>1</td>\n",
       "      <td>NaN</td>\n",
       "      <td>I sent him something.</td>\n",
       "    </tr>\n",
       "    <tr>\n",
       "      <th>7483</th>\n",
       "      <td>sks13</td>\n",
       "      <td>0</td>\n",
       "      <td>*</td>\n",
       "      <td>He will indeed not endorse the treaty.</td>\n",
       "    </tr>\n",
       "    <tr>\n",
       "      <th>7306</th>\n",
       "      <td>sks13</td>\n",
       "      <td>1</td>\n",
       "      <td>NaN</td>\n",
       "      <td>It was in the barn or it took place in the barn.</td>\n",
       "    </tr>\n",
       "    <tr>\n",
       "      <th>2553</th>\n",
       "      <td>l-93</td>\n",
       "      <td>1</td>\n",
       "      <td>NaN</td>\n",
       "      <td>Cheryl stood the tall books on the table.</td>\n",
       "    </tr>\n",
       "    <tr>\n",
       "      <th>7461</th>\n",
       "      <td>sks13</td>\n",
       "      <td>1</td>\n",
       "      <td>NaN</td>\n",
       "      <td>Hasn't Henri studied for his exam?</td>\n",
       "    </tr>\n",
       "    <tr>\n",
       "      <th>3932</th>\n",
       "      <td>ks08</td>\n",
       "      <td>1</td>\n",
       "      <td>NaN</td>\n",
       "      <td>The election results surprised everybody.</td>\n",
       "    </tr>\n",
       "    <tr>\n",
       "      <th>7400</th>\n",
       "      <td>sks13</td>\n",
       "      <td>1</td>\n",
       "      <td>NaN</td>\n",
       "      <td>They are special.</td>\n",
       "    </tr>\n",
       "    <tr>\n",
       "      <th>1974</th>\n",
       "      <td>r-67</td>\n",
       "      <td>1</td>\n",
       "      <td>NaN</td>\n",
       "      <td>Tom will force you to marry no student, and neither will I.</td>\n",
       "    </tr>\n",
       "    <tr>\n",
       "      <th>7059</th>\n",
       "      <td>sgww85</td>\n",
       "      <td>0</td>\n",
       "      <td>*</td>\n",
       "      <td>What did you say I went and get?</td>\n",
       "    </tr>\n",
       "    <tr>\n",
       "      <th>1275</th>\n",
       "      <td>r-67</td>\n",
       "      <td>1</td>\n",
       "      <td>NaN</td>\n",
       "      <td>I went to the store and Nike bought some whisky.</td>\n",
       "    </tr>\n",
       "    <tr>\n",
       "      <th>6298</th>\n",
       "      <td>c_13</td>\n",
       "      <td>1</td>\n",
       "      <td>NaN</td>\n",
       "      <td>John could bake something, but I'm not sure what.</td>\n",
       "    </tr>\n",
       "    <tr>\n",
       "      <th>5572</th>\n",
       "      <td>c_13</td>\n",
       "      <td>1</td>\n",
       "      <td>NaN</td>\n",
       "      <td>Sally kissed herself.</td>\n",
       "    </tr>\n",
       "    <tr>\n",
       "      <th>1885</th>\n",
       "      <td>r-67</td>\n",
       "      <td>0</td>\n",
       "      <td>*</td>\n",
       "      <td>That barn has seven pine trees behind itself.</td>\n",
       "    </tr>\n",
       "    <tr>\n",
       "      <th>8010</th>\n",
       "      <td>ad03</td>\n",
       "      <td>1</td>\n",
       "      <td>NaN</td>\n",
       "      <td>Who poisoned who?</td>\n",
       "    </tr>\n",
       "  </tbody>\n",
       "</table>\n",
       "</div>"
      ],
      "text/plain": [
       "     sentence_source  label notes  \\\n",
       "6115            c_13      1   NaN   \n",
       "1150            r-67      1   NaN   \n",
       "7483           sks13      0     *   \n",
       "7306           sks13      1   NaN   \n",
       "2553            l-93      1   NaN   \n",
       "7461           sks13      1   NaN   \n",
       "3932            ks08      1   NaN   \n",
       "7400           sks13      1   NaN   \n",
       "1974            r-67      1   NaN   \n",
       "7059          sgww85      0     *   \n",
       "1275            r-67      1   NaN   \n",
       "6298            c_13      1   NaN   \n",
       "5572            c_13      1   NaN   \n",
       "1885            r-67      0     *   \n",
       "8010            ad03      1   NaN   \n",
       "\n",
       "                                                         sentence  \n",
       "6115                              It is likely that Patrick left.  \n",
       "1150                                        I sent him something.  \n",
       "7483                       He will indeed not endorse the treaty.  \n",
       "7306             It was in the barn or it took place in the barn.  \n",
       "2553                    Cheryl stood the tall books on the table.  \n",
       "7461                           Hasn't Henri studied for his exam?  \n",
       "3932                    The election results surprised everybody.  \n",
       "7400                                            They are special.  \n",
       "1974  Tom will force you to marry no student, and neither will I.  \n",
       "7059                             What did you say I went and get?  \n",
       "1275             I went to the store and Nike bought some whisky.  \n",
       "6298            John could bake something, but I'm not sure what.  \n",
       "5572                                        Sally kissed herself.  \n",
       "1885                That barn has seven pine trees behind itself.  \n",
       "8010                                            Who poisoned who?  "
      ]
     },
     "execution_count": 3,
     "metadata": {},
     "output_type": "execute_result"
    }
   ],
   "source": [
    "def read_data(dset='in_domain_train'):\n",
    "    fname = './cola_public/raw/{}.tsv'.format(dset)\n",
    "    df = pd.read_csv(fname, delimiter='\\t', header=None, \n",
    "                    names=['sentence_source', 'label', 'notes', 'sentence'])\n",
    "    return df\n",
    "\n",
    "d = read_data()\n",
    "d.sample(15)"
   ]
  },
  {
   "cell_type": "markdown",
   "metadata": {},
   "source": [
    "## Process in data"
   ]
  },
  {
   "cell_type": "code",
   "execution_count": 4,
   "metadata": {},
   "outputs": [],
   "source": [
    "def pre_process(df):\n",
    "    sentences = df.sentence.values\n",
    "    sentences = [\"[CLS] \" + sent + \" [SEP]\" for sent in sentences]\n",
    "    labels = df.label.values\n",
    "    return sentences, torch.tensor(labels)"
   ]
  },
  {
   "cell_type": "code",
   "execution_count": 33,
   "metadata": {},
   "outputs": [],
   "source": [
    "def plot_token_dist(tokenized_texts):\n",
    "    td = pd.DataFrame(get_len(tokenized_texts)).describe().loc['min':]\n",
    "    print('Token Distribution: ', td)"
   ]
  },
  {
   "cell_type": "code",
   "execution_count": 34,
   "metadata": {},
   "outputs": [],
   "source": [
    "def define_tokenizer(tokenizer_name = 'bert-base-uncased'):\n",
    "    tokenizer = BertTokenizer.from_pretrained(tokenizer_name, do_lower_case=True)\n",
    "    print('Total vocab size: ', tokenizer.vocab_size)\n",
    "    print('Pad token ID: ', tokenizer.pad_token_id)\n",
    "    #print('Unknown token ID: ', tokenizer.unk_token_is)\n",
    "    return tokenizer"
   ]
  },
  {
   "cell_type": "code",
   "execution_count": 35,
   "metadata": {},
   "outputs": [],
   "source": [
    "def tokenize_and_ids(sentences, tokenizer):\n",
    "    tokenized_texts = [tokenizer.tokenize(sent) for sent in sentences]\n",
    "    input_ids = [tokenizer.convert_tokens_to_ids(x) for x in tokenized_texts]\n",
    "    return tokenized_texts, input_ids"
   ]
  },
  {
   "cell_type": "code",
   "execution_count": 36,
   "metadata": {},
   "outputs": [],
   "source": [
    "def pad_sequence_mask(sequence, max_len):\n",
    "    padded_sequence = torch.zeros(len(sequence), max_len).long()\n",
    "    for i, seq in enumerate(sequence):\n",
    "        padded_sequence[i,:len(seq)] = torch.Tensor(seq)\n",
    "    attention_masks = padded_sequence > 0\n",
    "    return padded_sequence, attention_masks"
   ]
  },
  {
   "cell_type": "code",
   "execution_count": 37,
   "metadata": {},
   "outputs": [],
   "source": [
    "def get_len(sequences):\n",
    "    return [len(seq) for seq in sequences]"
   ]
  },
  {
   "cell_type": "code",
   "execution_count": 38,
   "metadata": {},
   "outputs": [],
   "source": [
    "def get_max_len(sequences):\n",
    "    return max(get_len(sequences))"
   ]
  },
  {
   "cell_type": "code",
   "execution_count": 39,
   "metadata": {},
   "outputs": [],
   "source": [
    "def prepare_dataset(dset, tokenizer, max_len):\n",
    "    df = read_data(dset)\n",
    "    sentences, labels = pre_process(df)\n",
    "    tokenized_texts, input_ids = tokenize_and_ids(sentences, tokenizer)\n",
    "    if dset=='train':\n",
    "        plot_token_dist(tokenized_texts)\n",
    "    padded_input_ids, attention_masks = pad_sequence_mask(input_ids, max_len)\n",
    "    return padded_input_ids, attention_masks, labels"
   ]
  },
  {
   "cell_type": "code",
   "execution_count": 40,
   "metadata": {
    "scrolled": true
   },
   "outputs": [
    {
     "name": "stderr",
     "output_type": "stream",
     "text": [
      "100%|██████████| 231508/231508 [00:00<00:00, 1091783.67B/s]\n"
     ]
    },
    {
     "name": "stdout",
     "output_type": "stream",
     "text": [
      "Total vocab size:  30522\n",
      "Pad token ID:  0\n"
     ]
    }
   ],
   "source": [
    "tokenizer = define_tokenizer()\n",
    "max_len = 64 #128\n",
    "X_train, mask_train, y_train = prepare_dataset('in_domain_train', tokenizer, max_len)\n",
    "X_valid, mask_valid, y_valid = prepare_dataset('in_domain_dev', tokenizer, max_len)"
   ]
  },
  {
   "cell_type": "markdown",
   "metadata": {},
   "source": [
    "## Prepare for Training"
   ]
  },
  {
   "cell_type": "code",
   "execution_count": 41,
   "metadata": {},
   "outputs": [],
   "source": [
    "def transer_gpu_dataloader(X, mask, y, batch_size, device):\n",
    "    X = X.to(device)\n",
    "    mask = mask.to(device)\n",
    "    y = y.to(device)\n",
    "    data = TensorDataset(X, mask, y)\n",
    "    sampler = RandomSampler(data)\n",
    "    return DataLoader(data, sampler=sampler, batch_size=batch_size)"
   ]
  },
  {
   "cell_type": "code",
   "execution_count": 42,
   "metadata": {},
   "outputs": [],
   "source": [
    "device = torch.device(\"cuda\" if torch.cuda.is_available() else \"cpu\")\n",
    "batch_size= 32"
   ]
  },
  {
   "cell_type": "code",
   "execution_count": 43,
   "metadata": {},
   "outputs": [],
   "source": [
    "train_dataloader = transer_gpu_dataloader(X_train, mask_train, y_train, batch_size, device)\n",
    "valid_dataloader = transer_gpu_dataloader(X_valid, mask_valid, y_valid, batch_size, device)"
   ]
  },
  {
   "cell_type": "code",
   "execution_count": 44,
   "metadata": {},
   "outputs": [
    {
     "name": "stderr",
     "output_type": "stream",
     "text": [
      "100%|██████████| 313/313 [00:00<00:00, 107028.95B/s]\n",
      "100%|██████████| 440473133/440473133 [00:19<00:00, 22340056.05B/s]\n"
     ]
    }
   ],
   "source": [
    "model = BertForSequenceClassification.from_pretrained(\"bert-base-uncased\", num_labels=2)\n",
    "model = model.to(device)"
   ]
  },
  {
   "cell_type": "code",
   "execution_count": 45,
   "metadata": {},
   "outputs": [],
   "source": [
    "gradient_accumulation_steps = 1\n",
    "num_train_epochs = 1\n",
    "t_total = len(train_dataloader) // gradient_accumulation_steps * num_train_epochs\n",
    "warmup_steps = int(t_total * 0.1)\n",
    "lr = 1 #5e-5\n",
    "eps = 1 #1e-8\n",
    "weight_decay = 0.0"
   ]
  },
  {
   "cell_type": "code",
   "execution_count": 19,
   "metadata": {},
   "outputs": [],
   "source": [
    "no_decay = ['bias', 'LayerNorm.weight']\n",
    "optimizer_grouped_parameters = [\n",
    "    {\n",
    "        'params': [p for n, p in model.named_parameters() if not any(nd in n for nd in no_decay)], \n",
    "         'weight_decay': weight_decay\n",
    "    },\n",
    "    {\n",
    "        'params': [p for n, p in model.named_parameters() if any(nd in n for nd in no_decay)], \n",
    "        'weight_decay': 0.0\n",
    "    }\n",
    "]"
   ]
  },
  {
   "cell_type": "code",
   "execution_count": 20,
   "metadata": {},
   "outputs": [],
   "source": [
    "optimizer = AdamW(optimizer_grouped_parameters, lr=lr, eps=eps)\n",
    "scheduler = WarmupLinearSchedule(optimizer, warmup_steps=warmup_steps, t_total=t_total)"
   ]
  },
  {
   "cell_type": "markdown",
   "metadata": {},
   "source": [
    "## Train\n",
    "\n",
    "Todo: Add in the validation loss to this loop as well."
   ]
  },
  {
   "cell_type": "code",
   "execution_count": 21,
   "metadata": {},
   "outputs": [
    {
     "name": "stderr",
     "output_type": "stream",
     "text": [
      "Epoch:   0%|          | 0/1 [00:00<?, ?it/s]"
     ]
    },
    {
     "name": "stdout",
     "output_type": "stream",
     "text": [
      "Train loss: 0.6827539942825018\n"
     ]
    },
    {
     "name": "stderr",
     "output_type": "stream",
     "text": [
      "Epoch: 100%|██████████| 1/1 [03:08<00:00, 188.96s/it]"
     ]
    },
    {
     "name": "stdout",
     "output_type": "stream",
     "text": [
      "Training Time (m) 3.1494555672009787\n"
     ]
    },
    {
     "name": "stderr",
     "output_type": "stream",
     "text": [
      "\n"
     ]
    }
   ],
   "source": [
    "train_start = time.time()\n",
    "train_loss_set = []\n",
    "learning_rate = []\n",
    "model.zero_grad()\n",
    "train_iterator = trange(int(num_train_epochs), desc=\"Epoch\")\n",
    "for _ in train_iterator:\n",
    "    model.train()\n",
    "    tr_loss, nb_tr_steps = 0, 0\n",
    "    for step, batch in enumerate(train_dataloader):\n",
    "        learning_rate.append(scheduler.get_lr())\n",
    "        b_input_ids, b_input_mask, b_labels = batch\n",
    "        outputs = model(b_input_ids, token_type_ids=None, attention_mask=b_input_mask, labels=b_labels)\n",
    "        loss = outputs[0]\n",
    "        train_loss_set.append(loss.item())\n",
    "        loss.backward()\n",
    "        optimizer.step()\n",
    "        scheduler.step()\n",
    "        model.zero_grad()  \n",
    "        tr_loss += loss.item()\n",
    "        nb_tr_steps += 1\n",
    "    print('Train loss: {}'.format(tr_loss/nb_tr_steps))\n",
    "    \n",
    "    model.eval()\n",
    "    predictions = []\n",
    "    true_labels = []\n",
    "    for batch in valid_dataloader:\n",
    "        b_input_ids, b_input_mask, b_labels = batch\n",
    "        with torch.no_grad():\n",
    "            logits = model(b_input_ids, token_type_ids=None, attention_mask=b_input_mask)\n",
    "        predictions.append(np.argmax(logits[0].detach().cpu().numpy(), axis=1))\n",
    "        true_labels.append(b_labels.to('cpu').numpy())\n",
    "print('Training Time (m)', (time.time() - train_start)/60)"
   ]
  },
  {
   "cell_type": "markdown",
   "metadata": {},
   "source": [
    "- Training takes 8.6 minutes with a batch size of 32 and a max sentence length of 250.\n",
    "- Training takes 4.7 minutes with a batch size of 32 and a max sentence length of 128."
   ]
  },
  {
   "cell_type": "code",
   "execution_count": 22,
   "metadata": {},
   "outputs": [],
   "source": [
    "def plot_train_metric(seq, metric_name, title):\n",
    "    plt.figure(figsize=(15,8))\n",
    "    plt.title(title)\n",
    "    plt.xlabel(\"Step\")\n",
    "    plt.ylabel(metric_name)\n",
    "    plt.plot(seq)\n",
    "    plt.show()"
   ]
  },
  {
   "cell_type": "code",
   "execution_count": 23,
   "metadata": {},
   "outputs": [
    {
     "data": {
      "image/png": "[encoded data removed]",
      "text/plain": [
       "<Figure size 1080x576 with 1 Axes>"
      ]
     },
     "metadata": {},
     "output_type": "display_data"
    }
   ],
   "source": [
    "plot_train_metric(train_loss_set, 'Loss', 'Training Loss for CoLA')"
   ]
  },
  {
   "cell_type": "code",
   "execution_count": 24,
   "metadata": {},
   "outputs": [
    {
     "data": {
      "image/png": "[encoded data removed]",
      "text/plain": [
       "<Figure size 1080x576 with 1 Axes>"
      ]
     },
     "metadata": {},
     "output_type": "display_data"
    }
   ],
   "source": [
    "learning_rate1 = [lr[0] for lr in learning_rate]\n",
    "plot_train_metric(learning_rate1, 'Learning Rate', 'Learning Rate Across 4 Epochs')"
   ]
  },
  {
   "cell_type": "markdown",
   "metadata": {},
   "source": [
    "## Evaluate"
   ]
  },
  {
   "cell_type": "code",
   "execution_count": 25,
   "metadata": {},
   "outputs": [],
   "source": [
    "def simple_accuracy(preds, labels):\n",
    "    return np.sum(preds == labels) / len(labels)\n",
    "\n",
    "def flatten_list(l):\n",
    "    fl = [item for sl in l for item in sl]\n",
    "    return np.array(fl)\n",
    "\n",
    "def matthew_correlation(preds, labels):\n",
    "    return matthews_corrcoef(labels, preds)"
   ]
  },
  {
   "cell_type": "code",
   "execution_count": 26,
   "metadata": {
    "scrolled": true
   },
   "outputs": [],
   "source": [
    "model.eval()\n",
    "predictions = []\n",
    "true_labels = []\n",
    "for batch in valid_dataloader:\n",
    "    b_input_ids, b_input_mask, b_labels = batch\n",
    "    with torch.no_grad():\n",
    "        logits = model(b_input_ids, token_type_ids=None, attention_mask=b_input_mask)\n",
    "    predictions.append(np.argmax(logits[0].detach().cpu().numpy(), axis=1))\n",
    "    true_labels.append(b_labels.to('cpu').numpy())"
   ]
  },
  {
   "cell_type": "code",
   "execution_count": 27,
   "metadata": {},
   "outputs": [],
   "source": [
    "predictions = flatten_list(predictions)\n",
    "true_labels = flatten_list(true_labels)"
   ]
  },
  {
   "cell_type": "code",
   "execution_count": 28,
   "metadata": {},
   "outputs": [
    {
     "name": "stdout",
     "output_type": "stream",
     "text": [
      "Validation Accuracy: 0.6925996204933587\n",
      "Matthew Correlation: 0.0\n"
     ]
    },
    {
     "name": "stderr",
     "output_type": "stream",
     "text": [
      "/home/ubuntu/anaconda3/envs/pytorch_p36/lib/python3.6/site-packages/sklearn/metrics/classification.py:872: RuntimeWarning: invalid value encountered in double_scalars\n",
      "  mcc = cov_ytyp / np.sqrt(cov_ytyt * cov_ypyp)\n"
     ]
    }
   ],
   "source": [
    "print('Validation Accuracy: {}'.format(simple_accuracy(predictions, true_labels)))\n",
    "print('Matthew Correlation: {}'.format(matthew_correlation(predictions, true_labels)))"
   ]
  },
  {
   "cell_type": "code",
   "execution_count": 29,
   "metadata": {},
   "outputs": [
    {
     "name": "stdout",
     "output_type": "stream",
     "text": [
      "Script Time (m) 3.8059119900067646\n"
     ]
    }
   ],
   "source": [
    "print('Script Time (m)', (time.time() - script_start)/60)"
   ]
  },
  {
   "cell_type": "code",
   "execution_count": 30,
   "metadata": {},
   "outputs": [],
   "source": [
    "torch.save(model.cpu().state_dict(), 'model.pt')"
   ]
  },
  {
   "cell_type": "code",
   "execution_count": 31,
   "metadata": {},
   "outputs": [
    {
     "name": "stdout",
     "output_type": "stream",
     "text": [
      "model.pt\n",
      "upload: ./model.tar.gz to s3://cola-model-artifacts/model.tar.gz    \n"
     ]
    }
   ],
   "source": [
    "!tar -czvf model.tar.gz model.pt \n",
    "!aws s3 cp model.tar.gz s3://cola-model-artifacts/model.tar.gz"
   ]
  },
  {
   "cell_type": "markdown",
   "metadata": {},
   "source": [
    "## (Later) Hyperparameter Optimization\n",
    "\n",
    "Due to the low training time, the paper authors recommend doing an exhasutive search over the following hypers:\n",
    "\n",
    "- **Batch size:** 16, 32\n",
    "- **Learning rate (Adam):** 5e-5, 3e-5, 2e-5 \n",
    "- **Number of epochs:** 2, 3, 4\n",
    "\n",
    "This amounts to 18 fine-tuning runs. It should take < 2 hours."
   ]
  },
  {
   "cell_type": "code",
   "execution_count": 32,
   "metadata": {},
   "outputs": [
    {
     "name": "stdout",
     "output_type": "stream",
     "text": [
      "download: s3://cola-model-artifacts/model.tar.gz to ./model.tar.gz  \n",
      "model.pt\n"
     ]
    }
   ],
   "source": [
    "!aws s3 cp s3://cola-model-artifacts/model.tar.gz model.tar.gz\n",
    "!tar -xvf model.tar.gz model.pt"
   ]
  },
  {
   "cell_type": "code",
   "execution_count": 34,
   "metadata": {},
   "outputs": [
    {
     "data": {
      "text/plain": [
       "<All keys matched successfully>"
      ]
     },
     "execution_count": 34,
     "metadata": {},
     "output_type": "execute_result"
    }
   ],
   "source": [
    "device = \"cuda\" if torch.cuda.is_available() else \"cpu\"\n",
    "model = BertForSequenceClassification.from_pretrained(\"bert-base-uncased\", num_labels=2)\n",
    "model = model.to(device)\n",
    "model.load_state_dict(torch.load('model.pt'))"
   ]
  },
  {
   "cell_type": "code",
   "execution_count": 36,
   "metadata": {},
   "outputs": [
    {
     "name": "stdout",
     "output_type": "stream",
     "text": [
      "Validation Accuracy: 0.6925996204933587\n",
      "Matthew Correlation: 0.0\n"
     ]
    },
    {
     "name": "stderr",
     "output_type": "stream",
     "text": [
      "/home/ubuntu/anaconda3/envs/pytorch_p36/lib/python3.6/site-packages/sklearn/metrics/classification.py:872: RuntimeWarning: invalid value encountered in double_scalars\n",
      "  mcc = cov_ytyp / np.sqrt(cov_ytyt * cov_ypyp)\n"
     ]
    }
   ],
   "source": [
    "model.eval()\n",
    "predictions = []\n",
    "true_labels = []\n",
    "for batch in valid_dataloader:\n",
    "    b_input_ids, b_input_mask, b_labels = batch\n",
    "    with torch.no_grad():\n",
    "        logits = model(b_input_ids, token_type_ids=None, attention_mask=b_input_mask)\n",
    "    predictions.append(np.argmax(logits[0].detach().cpu().numpy(), axis=1))\n",
    "    true_labels.append(b_labels.to('cpu').numpy())\n",
    "    \n",
    "predictions = flatten_list(predictions)\n",
    "true_labels = flatten_list(true_labels)\n",
    "\n",
    "print('Validation Accuracy: {}'.format(simple_accuracy(predictions, true_labels)))\n",
    "print('Matthew Correlation: {}'.format(matthew_correlation(predictions, true_labels)))"
   ]
  },
  {
   "cell_type": "code",
   "execution_count": null,
   "metadata": {},
   "outputs": [],
   "source": []
  }
 ],
 "metadata": {
  "kernelspec": {
   "display_name": "conda_pytorch_p36",
   "language": "python",
   "name": "conda_pytorch_p36"
  },
  "language_info": {
   "codemirror_mode": {
    "name": "ipython",
    "version": 3
   },
   "file_extension": ".py",
   "mimetype": "text/x-python",
   "name": "python",
   "nbconvert_exporter": "python",
   "pygments_lexer": "ipython3",
   "version": "3.6.5"
  }
 },
 "nbformat": 4,
 "nbformat_minor": 4
}
