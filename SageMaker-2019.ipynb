{
 "cells": [
  {
   "cell_type": "code",
   "execution_count": 3,
   "metadata": {},
   "outputs": [],
   "source": [
    "#!pip3 install -U botocore"
   ]
  },
  {
   "cell_type": "markdown",
   "metadata": {},
   "source": [
    "### Library Imports"
   ]
  },
  {
   "cell_type": "code",
   "execution_count": 1,
   "metadata": {},
   "outputs": [],
   "source": [
    "import boto3\n",
    "import sagemaker\n",
    "import os\n",
    "import subprocess\n",
    "from source.preproc import *\n",
    "from tqdm import tqdm, trange, tqdm_notebook\n",
    "import numpy as np\n",
    "import io\n",
    "## BERT: Pre-training of Deep Bidirectional Transformers for Language Understanding\n",
    "from transformers import (BertConfig,\n",
    "                          BertForSequenceClassification,\n",
    "                          BertTokenizer)\n",
    "from torch.utils.data import (TensorDataset,\n",
    "                              DataLoader,\n",
    "                              RandomSampler,\n",
    "                              SequentialSampler)\n",
    "from source.preproc import *\n",
    "from tqdm import tqdm, trange, tqdm_notebook\n",
    "import numpy as np\n",
    "import io\n",
    "from transformers import (BertConfig,\n",
    "                          BertForSequenceClassification,\n",
    "                          BertTokenizer)\n",
    "from torch.utils.data import (TensorDataset,\n",
    "                              DataLoader,\n",
    "                              RandomSampler,\n",
    "                              SequentialSampler)\n",
    "from sagemaker.pytorch import PyTorchModel"
   ]
  },
  {
   "cell_type": "markdown",
   "metadata": {},
   "source": [
    "### Create S3 Bucket Path & Sagemaker Session"
   ]
  },
  {
   "cell_type": "code",
   "execution_count": 2,
   "metadata": {},
   "outputs": [],
   "source": [
    "## Getting the role of the Sagemaker notebook to use in training \n",
    "sagemaker_session = sagemaker.Session()\n",
    "role = sagemaker.get_execution_role()\n",
    "\n",
    "## Make sure to create an S3 bucket\n",
    "bucket = 'reinvent-cola-model-artifacts'"
   ]
  },
  {
   "cell_type": "code",
   "execution_count": 3,
   "metadata": {},
   "outputs": [],
   "source": [
    "# Set device\n",
    "device = torch.device(\"cuda\" if torch.cuda.is_available() else \"cpu\")\n",
    "\n",
    "\n",
    "batch_size = 32\n",
    "def transer_gpu_dataloader(X, mask, y, batch_size, device):\n",
    "    X = X.to(device)\n",
    "    mask = mask.to(device)\n",
    "    y = y.to(device)\n",
    "    data = TensorDataset(X, mask, y)\n",
    "    sampler = RandomSampler(data)\n",
    "    return DataLoader(data, sampler=sampler, batch_size=batch_size)"
   ]
  },
  {
   "cell_type": "markdown",
   "metadata": {},
   "source": [
    "### Download CoLA: The Corpus of Linguistic Acceptability"
   ]
  },
  {
   "cell_type": "code",
   "execution_count": 4,
   "metadata": {},
   "outputs": [
    {
     "name": "stdout",
     "output_type": "stream",
     "text": [
      "Archive:  cola_public_1.1.zip\n"
     ]
    },
    {
     "name": "stderr",
     "output_type": "stream",
     "text": [
      "bash: line 2: https://nyu-mll.github.io/CoLA/: No such file or directory\n",
      "--2019-11-28 19:39:33--  https://nyu-mll.github.io/CoLA/cola_public_1.1.zip\n",
      "Resolving nyu-mll.github.io (nyu-mll.github.io)... 185.199.111.153, 185.199.108.153, 185.199.109.153, ...\n",
      "Connecting to nyu-mll.github.io (nyu-mll.github.io)|185.199.111.153|:443... connected.\n",
      "HTTP request sent, awaiting response... 200 OK\n",
      "Length: 255330 (249K) [application/zip]\n",
      "Saving to: ‘cola_public_1.1.zip.18’\n",
      "\n",
      "     0K .......... .......... .......... .......... .......... 20% 2.23M 0s\n",
      "    50K .......... .......... .......... .......... .......... 40% 4.57M 0s\n",
      "   100K .......... .......... .......... .......... .......... 60% 4.48M 0s\n",
      "   150K .......... .......... .......... .......... .......... 80% 94.8M 0s\n",
      "   200K .......... .......... .......... .......... ......... 100%  151M=0.04s\n",
      "\n",
      "2019-11-28 19:39:33 (5.50 MB/s) - ‘cola_public_1.1.zip.18’ saved [255330/255330]\n",
      "\n",
      "replace cola_public/README? [y]es, [n]o, [A]ll, [N]one, [r]ename:  NULL\n",
      "(EOF or read error, treating as \"[N]one\" ...)\n"
     ]
    }
   ],
   "source": [
    "%%bash\n",
    "\n",
    "https://nyu-mll.github.io/CoLA/\n",
    "wget https://nyu-mll.github.io/CoLA/cola_public_1.1.zip\n",
    "unzip cola_public_1.1.zip"
   ]
  },
  {
   "cell_type": "code",
   "execution_count": 5,
   "metadata": {},
   "outputs": [
    {
     "name": "stdout",
     "output_type": "stream",
     "text": [
      "Total vocab size:  30522\n",
      "Pad token ID:  0\n"
     ]
    }
   ],
   "source": [
    "def read_data(dset='in_domain_train'):\n",
    "    fname = './cola_public/raw/{}.tsv'.format(dset)\n",
    "    df = pd.read_csv(fname, delimiter='\\t', header=None, \n",
    "                    names=['sentence_source', 'label', 'notes', 'sentence'])\n",
    "    return df\n",
    "\n",
    "def prepare_dataset(dset, tokenizer, max_len):\n",
    "    df = read_data(dset)\n",
    "    sentences, labels = pre_process(df)\n",
    "    tokenized_texts, input_ids = tokenize_and_ids(sentences, tokenizer)\n",
    "    if dset=='train':\n",
    "        plot_token_dist(tokenized_texts)\n",
    "    padded_input_ids, attention_masks = pad_sequence_mask(input_ids, max_len)\n",
    "    return padded_input_ids, attention_masks, labels\n",
    "\n",
    "tokenizer = define_tokenizer()\n",
    "max_len = 64 \n",
    "X_train, mask_train, y_train = prepare_dataset('in_domain_train', tokenizer, max_len)\n",
    "X_valid, mask_valid, y_valid = prepare_dataset('in_domain_dev', tokenizer, max_len)"
   ]
  },
  {
   "cell_type": "code",
   "execution_count": 6,
   "metadata": {},
   "outputs": [],
   "source": [
    "train_dataloader = transer_gpu_dataloader(X_train, mask_train, y_train, batch_size, device)\n",
    "valid_dataloader = transer_gpu_dataloader(X_valid, mask_valid, y_valid, batch_size, device)"
   ]
  },
  {
   "cell_type": "markdown",
   "metadata": {},
   "source": [
    "### Data Preview"
   ]
  },
  {
   "cell_type": "code",
   "execution_count": 16,
   "metadata": {},
   "outputs": [
    {
     "name": "stdout",
     "output_type": "stream",
     "text": [
      "tensor([[ 101, 1045, 3246,  ...,    0,    0,    0],\n",
      "        [ 101, 1996, 2711,  ...,    0,    0,    0],\n",
      "        [ 101, 1996, 2282,  ...,    0,    0,    0],\n",
      "        ...,\n",
      "        [ 101, 2909, 4787,  ...,    0,    0,    0],\n",
      "        [ 101, 2054, 2017,  ...,    0,    0,    0],\n",
      "        [ 101, 1996, 3682,  ...,    0,    0,    0]], device='cuda:0')\n",
      "tensor(1, device='cuda:0') tensor(0, device='cuda:0') tensor(0, device='cuda:0') tensor(0, device='cuda:0')\n"
     ]
    }
   ],
   "source": [
    "# get some random training images\n",
    "dataiter = iter(train_dataloader)\n",
    "text, _,  labels = dataiter.next()\n",
    "\n",
    "# show images\n",
    "print(text)\n",
    "\n",
    "# print labels\n",
    "print(' '.join('%9s' % labels[j] for j in range(4)))"
   ]
  },
  {
   "cell_type": "code",
   "execution_count": 8,
   "metadata": {},
   "outputs": [],
   "source": [
    "inputs = sagemaker_session.upload_data(path='./cola_public/raw/', bucket=bucket, key_prefix='data/cola')"
   ]
  },
  {
   "cell_type": "markdown",
   "metadata": {},
   "source": [
    "### Training"
   ]
  },
  {
   "cell_type": "code",
   "execution_count": 9,
   "metadata": {},
   "outputs": [],
   "source": [
    "from sagemaker.pytorch import PyTorch\n",
    "\n",
    "instance_type = 'ml.p3.2xlarge'\n",
    "\n",
    "hyperparameters = {'max_len': 64,\n",
    "                          'batch_size': 64,\n",
    "                          'gradient_accumulation_steps': 1,\n",
    "                          'num_train_epochs': 1,\n",
    "                          'lr': 5e-5,\n",
    "                          'eps': 1e-8}\n",
    "\n",
    "estimator = PyTorch(entry_point='train.py',\n",
    "                            source_dir='source',\n",
    "                            role=role,\n",
    "                            framework_version='1.1.0',\n",
    "                            train_instance_count=1,\n",
    "                            train_instance_type=instance_type,\n",
    "                            hyperparameters=hyperparameters)"
   ]
  },
  {
   "cell_type": "code",
   "execution_count": 10,
   "metadata": {
    "collapsed": true,
    "jupyter": {
     "outputs_hidden": true
    }
   },
   "outputs": [
    {
     "name": "stdout",
     "output_type": "stream",
     "text": [
      "2019-11-28 19:39:40 Starting - Starting the training job...\n",
      "2019-11-28 19:39:41 Starting - Launching requested ML instances......\n",
      "2019-11-28 19:40:42 Starting - Preparing the instances for training......\n",
      "2019-11-28 19:41:58 Downloading - Downloading input data...\n",
      "2019-11-28 19:42:37 Training - Training image download completed. Training in progress..\u001b[31mbash: cannot set terminal process group (-1): Inappropriate ioctl for device\u001b[0m\n",
      "\u001b[31mbash: no job control in this shell\u001b[0m\n",
      "\u001b[31m2019-11-28 19:42:38,559 sagemaker-containers INFO     Imported framework sagemaker_pytorch_container.training\u001b[0m\n",
      "\u001b[31m2019-11-28 19:42:38,582 sagemaker_pytorch_container.training INFO     Block until all host DNS lookups succeed.\u001b[0m\n",
      "\u001b[31m2019-11-28 19:42:44,825 sagemaker_pytorch_container.training INFO     Invoking user training script.\u001b[0m\n",
      "\u001b[31m2019-11-28 19:42:45,082 sagemaker-containers INFO     Module train does not provide a setup.py. \u001b[0m\n",
      "\u001b[31mGenerating setup.py\u001b[0m\n",
      "\u001b[31m2019-11-28 19:42:45,083 sagemaker-containers INFO     Generating setup.cfg\u001b[0m\n",
      "\u001b[31m2019-11-28 19:42:45,083 sagemaker-containers INFO     Generating MANIFEST.in\u001b[0m\n",
      "\u001b[31m2019-11-28 19:42:45,083 sagemaker-containers INFO     Installing module with the following command:\u001b[0m\n",
      "\u001b[31m/usr/bin/python -m pip install . \u001b[0m\n",
      "\u001b[31mProcessing /opt/ml/code\u001b[0m\n",
      "\u001b[31mBuilding wheels for collected packages: train\n",
      "  Running setup.py bdist_wheel for train: started\u001b[0m\n",
      "\u001b[31m  Running setup.py bdist_wheel for train: finished with status 'done'\n",
      "  Stored in directory: /tmp/pip-ephem-wheel-cache-kgem1at_/wheels/35/24/16/37574d11bf9bde50616c67372a334f94fa8356bc7164af8ca3\u001b[0m\n",
      "\u001b[31mSuccessfully built train\u001b[0m\n",
      "\u001b[31mInstalling collected packages: train\u001b[0m\n",
      "\u001b[31mSuccessfully installed train-1.0.0\u001b[0m\n",
      "\u001b[31mYou are using pip version 18.1, however version 19.3.1 is available.\u001b[0m\n",
      "\u001b[31mYou should consider upgrading via the 'pip install --upgrade pip' command.\u001b[0m\n",
      "\u001b[31m2019-11-28 19:42:46,855 sagemaker-containers INFO     Invoking user script\n",
      "\u001b[0m\n",
      "\u001b[31mTraining Env:\n",
      "\u001b[0m\n",
      "\u001b[31m{\n",
      "    \"additional_framework_parameters\": {},\n",
      "    \"channel_input_dirs\": {\n",
      "        \"training\": \"/opt/ml/input/data/training\"\n",
      "    },\n",
      "    \"current_host\": \"algo-1\",\n",
      "    \"framework_module\": \"sagemaker_pytorch_container.training:main\",\n",
      "    \"hosts\": [\n",
      "        \"algo-1\"\n",
      "    ],\n",
      "    \"hyperparameters\": {\n",
      "        \"num_train_epochs\": 1,\n",
      "        \"batch_size\": 64,\n",
      "        \"lr\": 5e-05,\n",
      "        \"eps\": 1e-08,\n",
      "        \"gradient_accumulation_steps\": 1,\n",
      "        \"max_len\": 64\n",
      "    },\n",
      "    \"input_config_dir\": \"/opt/ml/input/config\",\n",
      "    \"input_data_config\": {\n",
      "        \"training\": {\n",
      "            \"TrainingInputMode\": \"File\",\n",
      "            \"S3DistributionType\": \"FullyReplicated\",\n",
      "            \"RecordWrapperType\": \"None\"\n",
      "        }\n",
      "    },\n",
      "    \"input_dir\": \"/opt/ml/input\",\n",
      "    \"is_master\": true,\n",
      "    \"job_name\": \"sagemaker-pytorch-2019-11-28-19-39-39-370\",\n",
      "    \"log_level\": 20,\n",
      "    \"master_hostname\": \"algo-1\",\n",
      "    \"model_dir\": \"/opt/ml/model\",\n",
      "    \"module_dir\": \"s3://sagemaker-eu-west-1-370785313285/sagemaker-pytorch-2019-11-28-19-39-39-370/source/sourcedir.tar.gz\",\n",
      "    \"module_name\": \"train\",\n",
      "    \"network_interface_name\": \"eth0\",\n",
      "    \"num_cpus\": 8,\n",
      "    \"num_gpus\": 1,\n",
      "    \"output_data_dir\": \"/opt/ml/output/data\",\n",
      "    \"output_dir\": \"/opt/ml/output\",\n",
      "    \"output_intermediate_dir\": \"/opt/ml/output/intermediate\",\n",
      "    \"resource_config\": {\n",
      "        \"current_host\": \"algo-1\",\n",
      "        \"hosts\": [\n",
      "            \"algo-1\"\n",
      "        ],\n",
      "        \"network_interface_name\": \"eth0\"\n",
      "    },\n",
      "    \"user_entry_point\": \"train.py\"\u001b[0m\n",
      "\u001b[31m}\n",
      "\u001b[0m\n",
      "\u001b[31mEnvironment variables:\n",
      "\u001b[0m\n",
      "\u001b[31mSM_HOSTS=[\"algo-1\"]\u001b[0m\n",
      "\u001b[31mSM_NETWORK_INTERFACE_NAME=eth0\u001b[0m\n",
      "\u001b[31mSM_HPS={\"batch_size\":64,\"eps\":1e-08,\"gradient_accumulation_steps\":1,\"lr\":5e-05,\"max_len\":64,\"num_train_epochs\":1}\u001b[0m\n",
      "\u001b[31mSM_USER_ENTRY_POINT=train.py\u001b[0m\n",
      "\u001b[31mSM_FRAMEWORK_PARAMS={}\u001b[0m\n",
      "\u001b[31mSM_RESOURCE_CONFIG={\"current_host\":\"algo-1\",\"hosts\":[\"algo-1\"],\"network_interface_name\":\"eth0\"}\u001b[0m\n",
      "\u001b[31mSM_INPUT_DATA_CONFIG={\"training\":{\"RecordWrapperType\":\"None\",\"S3DistributionType\":\"FullyReplicated\",\"TrainingInputMode\":\"File\"}}\u001b[0m\n",
      "\u001b[31mSM_OUTPUT_DATA_DIR=/opt/ml/output/data\u001b[0m\n",
      "\u001b[31mSM_CHANNELS=[\"training\"]\u001b[0m\n",
      "\u001b[31mSM_CURRENT_HOST=algo-1\u001b[0m\n",
      "\u001b[31mSM_MODULE_NAME=train\u001b[0m\n",
      "\u001b[31mSM_LOG_LEVEL=20\u001b[0m\n",
      "\u001b[31mSM_FRAMEWORK_MODULE=sagemaker_pytorch_container.training:main\u001b[0m\n",
      "\u001b[31mSM_INPUT_DIR=/opt/ml/input\u001b[0m\n",
      "\u001b[31mSM_INPUT_CONFIG_DIR=/opt/ml/input/config\u001b[0m\n",
      "\u001b[31mSM_OUTPUT_DIR=/opt/ml/output\u001b[0m\n",
      "\u001b[31mSM_NUM_CPUS=8\u001b[0m\n",
      "\u001b[31mSM_NUM_GPUS=1\u001b[0m\n",
      "\u001b[31mSM_MODEL_DIR=/opt/ml/model\u001b[0m\n",
      "\u001b[31mSM_MODULE_DIR=s3://sagemaker-eu-west-1-370785313285/sagemaker-pytorch-2019-11-28-19-39-39-370/source/sourcedir.tar.gz\u001b[0m\n",
      "\u001b[31mSM_TRAINING_ENV={\"additional_framework_parameters\":{},\"channel_input_dirs\":{\"training\":\"/opt/ml/input/data/training\"},\"current_host\":\"algo-1\",\"framework_module\":\"sagemaker_pytorch_container.training:main\",\"hosts\":[\"algo-1\"],\"hyperparameters\":{\"batch_size\":64,\"eps\":1e-08,\"gradient_accumulation_steps\":1,\"lr\":5e-05,\"max_len\":64,\"num_train_epochs\":1},\"input_config_dir\":\"/opt/ml/input/config\",\"input_data_config\":{\"training\":{\"RecordWrapperType\":\"None\",\"S3DistributionType\":\"FullyReplicated\",\"TrainingInputMode\":\"File\"}},\"input_dir\":\"/opt/ml/input\",\"is_master\":true,\"job_name\":\"sagemaker-pytorch-2019-11-28-19-39-39-370\",\"log_level\":20,\"master_hostname\":\"algo-1\",\"model_dir\":\"/opt/ml/model\",\"module_dir\":\"s3://sagemaker-eu-west-1-370785313285/sagemaker-pytorch-2019-11-28-19-39-39-370/source/sourcedir.tar.gz\",\"module_name\":\"train\",\"network_interface_name\":\"eth0\",\"num_cpus\":8,\"num_gpus\":1,\"output_data_dir\":\"/opt/ml/output/data\",\"output_dir\":\"/opt/ml/output\",\"output_intermediate_dir\":\"/opt/ml/output/intermediate\",\"resource_config\":{\"current_host\":\"algo-1\",\"hosts\":[\"algo-1\"],\"network_interface_name\":\"eth0\"},\"user_entry_point\":\"train.py\"}\u001b[0m\n",
      "\u001b[31mSM_USER_ARGS=[\"--batch_size\",\"64\",\"--eps\",\"1e-08\",\"--gradient_accumulation_steps\",\"1\",\"--lr\",\"5e-05\",\"--max_len\",\"64\",\"--num_train_epochs\",\"1\"]\u001b[0m\n",
      "\u001b[31mSM_OUTPUT_INTERMEDIATE_DIR=/opt/ml/output/intermediate\u001b[0m\n",
      "\u001b[31mSM_CHANNEL_TRAINING=/opt/ml/input/data/training\u001b[0m\n",
      "\u001b[31mSM_HP_NUM_TRAIN_EPOCHS=1\u001b[0m\n",
      "\u001b[31mSM_HP_BATCH_SIZE=64\u001b[0m\n",
      "\u001b[31mSM_HP_LR=5e-05\u001b[0m\n",
      "\u001b[31mSM_HP_EPS=1e-08\u001b[0m\n",
      "\u001b[31mSM_HP_GRADIENT_ACCUMULATION_STEPS=1\u001b[0m\n",
      "\u001b[31mSM_HP_MAX_LEN=64\u001b[0m\n",
      "\u001b[31mPYTHONPATH=/usr/local/bin:/usr/lib/python36.zip:/usr/lib/python3.6:/usr/lib/python3.6/lib-dynload:/usr/local/lib/python3.6/dist-packages:/usr/lib/python3/dist-packages\n",
      "\u001b[0m\n",
      "\u001b[31mInvoking script with the following command:\n",
      "\u001b[0m\n",
      "\u001b[31m/usr/bin/python -m train --batch_size 64 --eps 1e-08 --gradient_accumulation_steps 1 --lr 5e-05 --max_len 64 --num_train_epochs 1\n",
      "\n",
      "\u001b[0m\n",
      "\u001b[31mTotal vocab size:  30522\u001b[0m\n",
      "\u001b[31mPad token ID:  0\u001b[0m\n",
      "\u001b[31mToken Distribution:          0\u001b[0m\n",
      "\u001b[31mmin   4.0\u001b[0m\n",
      "\u001b[31m25%   9.0\u001b[0m\n",
      "\u001b[31m50%  10.0\u001b[0m\n",
      "\u001b[31m75%  13.0\u001b[0m\n",
      "\u001b[31mmax  47.0\u001b[0m\n",
      "\u001b[31mToken Distribution:          0\u001b[0m\n",
      "\u001b[31mmin   5.0\u001b[0m\n",
      "\u001b[31m25%   8.0\u001b[0m\n",
      "\u001b[31m50%  10.0\u001b[0m\n",
      "\u001b[31m75%  13.0\u001b[0m\n",
      "\u001b[31mmax  31.0\u001b[0m\n",
      "\n",
      "2019-11-28 19:44:08 Uploading - Uploading generated training model\u001b[31mTrain loss: 0.5130434977029686\u001b[0m\n",
      "\u001b[31mTraining Time (m) 0.5647746245066325\u001b[0m\n",
      "\u001b[31mValidation Accuracy: 0.8666666666666667\u001b[0m\n",
      "\u001b[31mMatthew Correlation: 0.6504436355879909\u001b[0m\n",
      "\u001b[31m2019-11-28 19:44:04,348 sagemaker-containers INFO     Reporting training SUCCESS\u001b[0m\n",
      "\n",
      "2019-11-28 19:45:14 Completed - Training job completed\n",
      "Training seconds: 196\n",
      "Billable seconds: 196\n"
     ]
    }
   ],
   "source": [
    "estimator.fit(inputs)"
   ]
  },
  {
   "cell_type": "markdown",
   "metadata": {},
   "source": [
    "# Deploy the trained model to prepare for predictions "
   ]
  },
  {
   "cell_type": "code",
   "execution_count": 18,
   "metadata": {},
   "outputs": [
    {
     "name": "stderr",
     "output_type": "stream",
     "text": [
      "Using already existing model: sagemaker-pytorch-2019-11-28-19-39-39-370\n"
     ]
    },
    {
     "name": "stdout",
     "output_type": "stream",
     "text": [
      "--------------------------------------------------------------------------------------------------------------!"
     ]
    }
   ],
   "source": [
    "instance_type = 'ml.p2.xlarge'\n",
    "predictor = estimator.deploy(initial_instance_count=1, instance_type=instance_type)"
   ]
  },
  {
   "cell_type": "code",
   "execution_count": 19,
   "metadata": {},
   "outputs": [
    {
     "name": "stdout",
     "output_type": "stream",
     "text": [
      "Predicted labels  [1, 1, 1, 1, 1, 1, 0, 1, 1, 1, 1, 1, 1, 1, 1, 1, 1, 1, 1, 1, 1, 1, 1, 1, 1, 1, 0, 1, 1, 1, 1, 1]\n",
      "Actual labels     [1, 0, 0, 0, 0, 1, 1, 1, 0, 1, 1, 1, 1, 1, 0, 1, 1, 1, 0, 0, 1, 1, 0, 1, 1, 1, 0, 1, 1, 1, 1, 1]\n"
     ]
    }
   ],
   "source": [
    "preds = predictor.predict(text.cpu().numpy())\n",
    "print('Predicted labels ', np.argmax(preds[0].cpu().numpy(),-1).tolist())\n",
    "print('Actual labels    ', labels.tolist())"
   ]
  },
  {
   "cell_type": "markdown",
   "metadata": {},
   "source": [
    "## Make sure you close your instance and delete the endpoint!"
   ]
  },
  {
   "cell_type": "code",
   "execution_count": 20,
   "metadata": {},
   "outputs": [],
   "source": [
    "sagemaker.Session().delete_endpoint(predictor.endpoint)"
   ]
  },
  {
   "cell_type": "code",
   "execution_count": null,
   "metadata": {},
   "outputs": [],
   "source": []
  }
 ],
 "metadata": {
  "kernelspec": {
   "display_name": "conda_pytorch_p36",
   "language": "python",
   "name": "conda_pytorch_p36"
  },
  "language_info": {
   "codemirror_mode": {
    "name": "ipython",
    "version": 3
   },
   "file_extension": ".py",
   "mimetype": "text/x-python",
   "name": "python",
   "nbconvert_exporter": "python",
   "pygments_lexer": "ipython3",
   "version": "3.6.5"
  }
 },
 "nbformat": 4,
 "nbformat_minor": 4
}
